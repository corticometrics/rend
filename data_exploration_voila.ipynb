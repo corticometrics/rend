{
 "cells": [
  {
   "cell_type": "markdown",
   "metadata": {},
   "source": [
    "# Reproducible Exploration of Neuroimaging Data (rend)"
   ]
  },
  {
   "cell_type": "code",
   "execution_count": null,
   "metadata": {
    "tags": [
     "parameters"
    ]
   },
   "outputs": [],
   "source": [
    "flex_title = \"Reproducible Exploration of Neuroimaging Data\""
   ]
  },
  {
   "cell_type": "code",
   "execution_count": null,
   "metadata": {},
   "outputs": [],
   "source": [
    "from pathlib import Path\n",
    "import altair as alt\n",
    "import numpy as np\n",
    "import pandas as pd"
   ]
  },
  {
   "cell_type": "code",
   "execution_count": null,
   "metadata": {},
   "outputs": [],
   "source": [
    "measurements_file = '../results/measurements.tsv'\n",
    "demographic_file = '../data/demographics.tsv'"
   ]
  },
  {
   "cell_type": "code",
   "execution_count": null,
   "metadata": {},
   "outputs": [],
   "source": [
    "measurements_df = pd.read_csv(measurements_file, sep='\\t')\n",
    "demographics_df = pd.read_csv(demographic_file, sep='\\t')"
   ]
  },
  {
   "cell_type": "code",
   "execution_count": null,
   "metadata": {},
   "outputs": [],
   "source": [
    "measurements_df[\"PatientSex\"] = measurements_df[\"Patient's Sex\"]\n",
    "measurements_df[\"PatientAge\"] = measurements_df[\"Patient's Age\"]\n",
    "measurements_df[\"subject_id\"] = measurements_df[\"subject\"]"
   ]
  },
  {
   "cell_type": "code",
   "execution_count": null,
   "metadata": {},
   "outputs": [],
   "source": [
    "dx_df = measurements_df.merge(demographics_df, on='subject_id')"
   ]
  },
  {
   "cell_type": "code",
   "execution_count": null,
   "metadata": {},
   "outputs": [],
   "source": [
    "structures = [\n",
    "    'BrainSegVolNotVentSurf',\n",
    "    'Left-Amygdala',\n",
    "    'Left-Caudate',\n",
    "    'Left-Cerebellum',\n",
    "    'Left-Hippocampus',\n",
    "    'Left-Lateral-Ventricle',\n",
    "    'Left-Putamen',\n",
    "    'Left-Thalamus',\n",
    "    'Left-White-Matter',\n",
    "    'lh_cortex_volume',\n",
    "    'lh_frontal_volume',\n",
    "    'lh_occipital_volume',\n",
    "    'lh_parietal_volume',\n",
    "    'lh_temporal_volume',\n",
    "    'rh_cortex_volume',\n",
    "    'rh_frontal_volume',\n",
    "    'rh_occipital_volume',\n",
    "    'rh_parietal_volume',\n",
    "    'rh_temporal_volume',\n",
    "    'Right-Amygdala',\n",
    "    'Right-Caudate',\n",
    "    'Right-Cerebellum',\n",
    "    'Right-Hippocampus',\n",
    "    'Right-Lateral-Ventricle',\n",
    "    'Right-Putamen',\n",
    "    'Right-Thalamus',\n",
    "    'Right-White-Matter',\n",
    "    'TotalGrayVol',\n",
    "#     'White-Matter',\n",
    "    'CerebralWhiteMatterVol',  # using instead of White-Matter, which shows up as an asymmetry in this dataset\n",
    "    'sbTIV',\n",
    "]"
   ]
  },
  {
   "cell_type": "code",
   "execution_count": null,
   "metadata": {},
   "outputs": [],
   "source": [
    "# subset to only include categories we care about\n",
    "dx_df = dx_df[\n",
    "    structures + \n",
    "    [\n",
    "        'subject',\n",
    "        'diagnosis',\n",
    "        \"PatientSex\", \n",
    "        \"PatientAge\", \n",
    "        \"Magnetic Field Strength\",\n",
    "        \"Manufacturer\",\n",
    "    ]\n",
    "]\n",
    "# create categories \n",
    "dx_df['diagnosis'] = dx_df['diagnosis'].astype('category')\n",
    "dx_df['diagnosis_codes'] = dx_df.diagnosis.cat.codes\n",
    "dx_df['diagnosis_codes'] = dx_df['diagnosis_codes'].apply(lambda x: int(x)+1)\n",
    "dx_df['PatientAgeBins'] = pd.cut(dx_df.PatientAge, 8, labels=['(20.971, 24.625]',\n",
    "                                                              '(24.625, 28.25]',\n",
    "                                                              '(28.25, 31.875]',\n",
    "                                                              '(31.875, 35.5]',\n",
    "                                                              '(35.5, 39.125]',\n",
    "                                                              '(39.125, 42.75]',\n",
    "                                                              '(42.75, 46.375]',\n",
    "                                                              '(46.375, 50.0]',]\n",
    "                                )\n",
    "dx_df['PatientAgeBins'] = dx_df['PatientAgeBins'].astype('category')\n",
    "\n",
    "for s in structures:\n",
    "    if s != 'sbTIV':\n",
    "        new_structure = f\"{s}_percent_icv\"\n",
    "        log_structure = f\"log_{s}\"\n",
    "        log_new_structure = f\"log_{new_structure}\"\n",
    "        \n",
    "        percent_icv = (dx_df[s]/dx_df.sbTIV) * 100\n",
    "        dx_df[new_structure] = percent_icv\n",
    "\n",
    "        log_value = np.log(dx_df[s])\n",
    "        dx_df[log_structure] = log_value\n",
    "        \n",
    "        log_percent_value = np.log(percent_icv)\n",
    "        dx_df[log_new_structure] = log_percent_value\n",
    "    else:\n",
    "        log_structure = f\"log_{s}\"\n",
    "        log_value = np.log(dx_df[s])\n",
    "        dx_df[log_structure] = log_value\n",
    "        "
   ]
  },
  {
   "cell_type": "code",
   "execution_count": null,
   "metadata": {},
   "outputs": [],
   "source": [
    "dx_df = dx_df.sort_values('subject')"
   ]
  },
  {
   "cell_type": "code",
   "execution_count": null,
   "metadata": {},
   "outputs": [],
   "source": [
    "cols = [\n",
    "    'BrainSegVolNotVentSurf',\n",
    "    'BrainSegVolNotVentSurf_percent_icv',\n",
    "    'CerebralWhiteMatterVol',\n",
    "    'CerebralWhiteMatterVol_percent_icv',\n",
    "    'Left-Amygdala',\n",
    "    'Left-Amygdala_percent_icv',\n",
    "    'Left-Caudate',\n",
    "    'Left-Caudate_percent_icv',\n",
    "    'Left-Cerebellum',\n",
    "    'Left-Cerebellum_percent_icv',\n",
    "    'Left-Hippocampus',\n",
    "    'Left-Hippocampus_percent_icv',\n",
    "    'Left-Lateral-Ventricle',\n",
    "    'Left-Lateral-Ventricle_percent_icv',\n",
    "    'Left-Putamen',\n",
    "    'Left-Putamen_percent_icv',\n",
    "    'Left-Thalamus',\n",
    "    'Left-Thalamus_percent_icv',\n",
    "    'Left-White-Matter',\n",
    "    'Left-White-Matter_percent_icv',\n",
    "    'Right-Amygdala',\n",
    "    'Right-Amygdala_percent_icv',\n",
    "    'Right-Caudate',\n",
    "    'Right-Caudate_percent_icv',\n",
    "    'Right-Cerebellum',\n",
    "    'Right-Cerebellum_percent_icv',\n",
    "    'Right-Hippocampus',\n",
    "    'Right-Hippocampus_percent_icv',\n",
    "    'Right-Lateral-Ventricle',\n",
    "    'Right-Lateral-Ventricle_percent_icv',\n",
    "    'Right-Putamen',\n",
    "    'Right-Putamen_percent_icv',\n",
    "    'Right-Thalamus',\n",
    "    'Right-Thalamus_percent_icv',\n",
    "    'Right-White-Matter',\n",
    "    'Right-White-Matter_percent_icv',\n",
    "    'TotalGrayVol',\n",
    "    'TotalGrayVol_percent_icv',\n",
    "    'lh_cortex_volume',\n",
    "    'lh_cortex_volume_percent_icv',\n",
    "    'lh_frontal_volume',\n",
    "    'lh_frontal_volume_percent_icv',\n",
    "    'lh_occipital_volume',\n",
    "    'lh_occipital_volume_percent_icv',\n",
    "    'lh_parietal_volume',\n",
    "    'lh_parietal_volume_percent_icv',\n",
    "    'lh_temporal_volume',\n",
    "    'lh_temporal_volume_percent_icv',\n",
    "    'log_BrainSegVolNotVentSurf',\n",
    "    'log_BrainSegVolNotVentSurf_percent_icv',\n",
    "    'log_CerebralWhiteMatterVol',\n",
    "    'log_CerebralWhiteMatterVol_percent_icv',\n",
    "    'log_Left-Amygdala',\n",
    "    'log_Left-Amygdala_percent_icv',\n",
    "    'log_Left-Caudate',\n",
    "    'log_Left-Caudate_percent_icv',\n",
    "    'log_Left-Cerebellum',\n",
    "    'log_Left-Cerebellum_percent_icv',\n",
    "    'log_Left-Hippocampus',\n",
    "    'log_Left-Hippocampus_percent_icv',\n",
    "    'log_Left-Lateral-Ventricle',\n",
    "    'log_Left-Lateral-Ventricle_percent_icv',\n",
    "    'log_Left-Putamen',\n",
    "    'log_Left-Putamen_percent_icv',\n",
    "    'log_Left-Thalamus',\n",
    "    'log_Left-Thalamus_percent_icv',\n",
    "    'log_Left-White-Matter',\n",
    "    'log_Left-White-Matter_percent_icv',\n",
    "    'log_Right-Amygdala',\n",
    "    'log_Right-Amygdala_percent_icv',\n",
    "    'log_Right-Caudate',\n",
    "    'log_Right-Caudate_percent_icv',\n",
    "    'log_Right-Cerebellum',\n",
    "    'log_Right-Cerebellum_percent_icv',\n",
    "    'log_Right-Hippocampus',\n",
    "    'log_Right-Hippocampus_percent_icv',\n",
    "    'log_Right-Lateral-Ventricle',\n",
    "    'log_Right-Lateral-Ventricle_percent_icv',\n",
    "    'log_Right-Putamen',\n",
    "    'log_Right-Putamen_percent_icv',\n",
    "    'log_Right-Thalamus',\n",
    "    'log_Right-Thalamus_percent_icv',\n",
    "    'log_Right-White-Matter',\n",
    "    'log_Right-White-Matter_percent_icv',\n",
    "    'log_TotalGrayVol',\n",
    "    'log_TotalGrayVol_percent_icv',\n",
    "    'log_lh_cortex_volume',\n",
    "    'log_lh_cortex_volume_percent_icv',\n",
    "    'log_lh_frontal_volume',\n",
    "    'log_lh_frontal_volume_percent_icv',\n",
    "    'log_lh_occipital_volume',\n",
    "    'log_lh_occipital_volume_percent_icv',\n",
    "    'log_lh_parietal_volume',\n",
    "    'log_lh_parietal_volume_percent_icv',\n",
    "    'log_lh_temporal_volume',\n",
    "    'log_lh_temporal_volume_percent_icv',\n",
    "    'log_rh_cortex_volume',\n",
    "    'log_rh_cortex_volume_percent_icv',\n",
    "    'log_rh_frontal_volume',\n",
    "    'log_rh_frontal_volume_percent_icv',\n",
    "    'log_rh_occipital_volume',\n",
    "    'log_rh_occipital_volume_percent_icv',\n",
    "    'log_rh_parietal_volume',\n",
    "    'log_rh_parietal_volume_percent_icv',\n",
    "    'log_rh_temporal_volume',\n",
    "    'log_rh_temporal_volume_percent_icv',\n",
    "    'log_sbTIV',\n",
    "    'rh_cortex_volume',\n",
    "    'rh_cortex_volume_percent_icv',\n",
    "    'rh_frontal_volume',\n",
    "    'rh_frontal_volume_percent_icv',\n",
    "    'rh_occipital_volume',\n",
    "    'rh_occipital_volume_percent_icv',\n",
    "    'rh_parietal_volume',\n",
    "    'rh_parietal_volume_percent_icv',\n",
    "    'rh_temporal_volume',\n",
    "    'rh_temporal_volume_percent_icv',\n",
    "    'sbTIV',\n",
    "]"
   ]
  },
  {
   "cell_type": "code",
   "execution_count": null,
   "metadata": {},
   "outputs": [],
   "source": [
    "dx_df['img'] = dx_df['subject'].apply(\n",
    "    lambda x: f\"../../data/LA5c/results/1.0.0-rc.14/data/{x}/coronal/coronal_129.jpg\" if Path(f\"/home/ubuntu/data/LA5c/results/1.0.0-rc.14/data/{x}/coronal/coronal_129.jpg\").exists() else \"\"\n",
    ")\n",
    "dx_df['href'] = dx_df['subject'].apply(\n",
    "    lambda x: f\"../../data/LA5c/results/1.0.0-rc.14/data/{x}/interactive.html\" if Path(f\"/home/ubuntu/data/LA5c/results/1.0.0-rc.14/data/{x}/interactive.html\").exists() else \"\"\n",
    ")"
   ]
  },
  {
   "cell_type": "code",
   "execution_count": null,
   "metadata": {},
   "outputs": [],
   "source": [
    "alt.data_transformers.disable_max_rows()\n",
    "alt.renderers.enable('kaggle')\n",
    "\n",
    "input_dropdown = alt.binding_select(options=cols)\n",
    "dropdown_selection = alt.selection_single(\n",
    "    fields=['Structure'], \n",
    "    bind=input_dropdown, \n",
    "    init={'Structure': 'Left-Hippocampus'}, \n",
    "    name=\"Inspect\"\n",
    ")\n",
    "brush = alt.selection_interval()\n",
    "single = alt.selection_single()\n",
    "\n",
    "\n",
    "points = alt.Chart().encode(\n",
    "    x='diagnosis:N',\n",
    "    y=alt.Y('value:Q', scale=alt.Scale(zero=False)),\n",
    ").properties(\n",
    "    width=500,\n",
    "    height=400\n",
    ").add_selection(\n",
    "    brush\n",
    ")\n",
    "# .add_selection(\n",
    "#     single\n",
    "# )\n",
    "\n",
    "ranked_text = alt.Chart().mark_text().encode(\n",
    "    y=alt.Y('row_number:O',axis=None),\n",
    "            tooltip=[\n",
    "                \"PatientAge:N\", \n",
    "                \"PatientSex:N\",\n",
    "                \"diagnosis:N\"\n",
    "            ],\n",
    "    color=alt.condition(\n",
    "        ~single, \n",
    "        alt.value('black'),\n",
    "        alt.value('#D81B60')\n",
    "    )\n",
    ").transform_window(\n",
    "    row_number='row_number()'\n",
    ").transform_filter(\n",
    "    brush\n",
    ").transform_window(\n",
    "    rank='rank(row_number)'\n",
    ").transform_filter(\n",
    "    alt.datum.rank<25\n",
    ").add_selection(\n",
    "    single\n",
    ")\n",
    "\n",
    "subject_name = ranked_text.encode(\n",
    "    text='subject:N'\n",
    ").properties(\n",
    "    title='Subject'\n",
    ")\n",
    "\n",
    "image =alt.Chart().mark_image(\n",
    "    width=500,\n",
    "    height=500,\n",
    ").encode(\n",
    "    url='img',\n",
    "    opacity=alt.condition(~single, alt.value(0), alt.value(1)),\n",
    "    # can't figure out how to use href here...\n",
    "    # ideally clicking the image will load the interactive plot,\n",
    "    # but all images are stacked so only top image's href ever is accesseblie\n",
    "    # href=alt.condition(~single, alt.value(''),'href'),\n",
    ").properties(\n",
    "    width=200,\n",
    "    height=200\n",
    ")\n",
    "\n",
    "\n",
    "# build the chart:\n",
    "structure_chart = alt.vconcat(\n",
    "    alt.hconcat(\n",
    "        points.mark_boxplot(color='#FFC107', size=50)  +\n",
    "        points.mark_point(filled=True, color='#004D40', size=50).encode(\n",
    "            tooltip=['subject'],\n",
    "            color=alt.condition(\n",
    "                ~single, \n",
    "                alt.value('#004D40'),\n",
    "                alt.value('#1E88E5')\n",
    "            ),\n",
    "            size= alt.condition(\n",
    "                ~single, \n",
    "                alt.value(50),\n",
    "                alt.value(250)\n",
    "            ),\n",
    "            href='href'\n",
    "        ),\n",
    "        subject_name,\n",
    "    ),\n",
    "    image,\n",
    "    data=dx_df.melt(\n",
    "        id_vars=['diagnosis', 'subject', \"PatientAge\", \"PatientSex\",'img','href'], \n",
    "        var_name='Structure'\n",
    "    ),\n",
    "    center=True\n",
    ").resolve_scale(\n",
    "    y='shared',\n",
    "    x='shared'\n",
    ").add_selection(\n",
    "    dropdown_selection\n",
    ").transform_filter(\n",
    "    dropdown_selection\n",
    ").configure_axis(\n",
    "    grid=False\n",
    ").configure_view(\n",
    "    strokeWidth=0\n",
    ")"
   ]
  },
  {
   "cell_type": "markdown",
   "metadata": {
    "tags": [
     "size=600"
    ]
   },
   "source": [
    "## Column 1"
   ]
  },
  {
   "cell_type": "markdown",
   "metadata": {
    "tags": [
     "size=600"
    ]
   },
   "source": [
    "### Interactively explore brain segmentation data"
   ]
  },
  {
   "cell_type": "code",
   "execution_count": null,
   "metadata": {
    "tags": [
     "body"
    ]
   },
   "outputs": [],
   "source": [
    "structure_chart"
   ]
  },
  {
   "cell_type": "markdown",
   "metadata": {
    "tags": [
     "size=400"
    ]
   },
   "source": [
    "## Column 2"
   ]
  },
  {
   "cell_type": "markdown",
   "metadata": {
    "tags": [
     "size=400"
    ]
   },
   "source": [
    "### Instructions"
   ]
  },
  {
   "cell_type": "markdown",
   "metadata": {
    "tags": [
     "body"
    ]
   },
   "source": [
    "- The dropdown menu at the bottom selects which structure to look at.\n",
    "- Clicking on a point opens an interactive 3D display of the brain\n",
    "    - Use Ctrl-click to open in new tab\n",
    "    - Use Shift-click to open in new window\n",
    "- Click and drag to select subjects to view in the `Subject` panel\n",
    "    - Double clicking unselects\n",
    "- Click on a subect ID in the `Subject` panel to view a center slice of the brain\n",
    "    - Note some subjects didn't complete processing and are unavailable"
   ]
  },
  {
   "cell_type": "code",
   "execution_count": null,
   "metadata": {},
   "outputs": [],
   "source": []
  }
 ],
 "metadata": {
  "kernelspec": {
   "display_name": "Python 3",
   "language": "python",
   "name": "python3"
  },
  "language_info": {
   "codemirror_mode": {
    "name": "ipython",
    "version": 3
   },
   "file_extension": ".py",
   "mimetype": "text/x-python",
   "name": "python",
   "nbconvert_exporter": "python",
   "pygments_lexer": "ipython3",
   "version": "3.7.9"
  }
 },
 "nbformat": 4,
 "nbformat_minor": 4
}
